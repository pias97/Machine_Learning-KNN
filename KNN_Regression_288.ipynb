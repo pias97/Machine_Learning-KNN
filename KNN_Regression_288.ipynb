{
  "nbformat": 4,
  "nbformat_minor": 0,
  "metadata": {
    "colab": {
      "name": "KNN_Regression_288.ipynb",
      "provenance": [],
      "authorship_tag": "ABX9TyNPLOWcT8WYI3aWyAOkVvNo",
      "include_colab_link": true
    },
    "kernelspec": {
      "name": "python3",
      "display_name": "Python 3"
    }
  },
  "cells": [
    {
      "cell_type": "markdown",
      "metadata": {
        "id": "view-in-github",
        "colab_type": "text"
      },
      "source": [
        "<a href=\"https://colab.research.google.com/github/pias97/Machine_Learning-KNN/blob/main/KNN_Regression_288.ipynb\" target=\"_parent\"><img src=\"https://colab.research.google.com/assets/colab-badge.svg\" alt=\"Open In Colab\"/></a>"
      ]
    },
    {
      "cell_type": "markdown",
      "metadata": {
        "id": "TWGgNYR_44Zw"
      },
      "source": [
        "#Data Import"
      ]
    },
    {
      "cell_type": "code",
      "metadata": {
        "id": "4UxIyyrR4rNU",
        "colab": {
          "base_uri": "https://localhost:8080/"
        },
        "outputId": "20fbd380-457b-40d0-cd3d-8bb86f93e648"
      },
      "source": [
        "from google.colab import drive\n",
        "drive.mount('/content/gdrive')"
      ],
      "execution_count": null,
      "outputs": [
        {
          "output_type": "stream",
          "text": [
            "Mounted at /content/gdrive\n"
          ],
          "name": "stdout"
        }
      ]
    },
    {
      "cell_type": "code",
      "metadata": {
        "id": "o_s6eJCH53ZF"
      },
      "source": [
        "from numpy import genfromtxt\n",
        "path = '/content/gdrive/MyDrive/Personal folder/STUDY/UIU/UIU/sem 12/AI lab/assignments/knn/Dataset/diabetes.csv'\n",
        "regression = genfromtxt(path, delimiter = \",\")\n",
        "#print(regression[-1])"
      ],
      "execution_count": null,
      "outputs": []
    },
    {
      "cell_type": "markdown",
      "metadata": {
        "id": "pjAbPutLcG6S"
      },
      "source": [
        "#Dataset Preparation"
      ]
    },
    {
      "cell_type": "code",
      "metadata": {
        "id": "5EpDskSXcKUc"
      },
      "source": [
        "import random\n",
        "list_reg = regression.tolist()\n",
        "random.shuffle(list_reg)\n",
        "#print(list_reg)"
      ],
      "execution_count": null,
      "outputs": []
    },
    {
      "cell_type": "code",
      "metadata": {
        "id": "ltIG2GQDcYTL"
      },
      "source": [
        "from random import random\n",
        "Train_set=[]\n",
        "Val_set=[]\n",
        "Test_set=[]\n",
        "\n",
        "for S in list_reg:\n",
        "  R = random()\n",
        "  if R >= 0 and R <= 0.7:\n",
        "    Train_set.append(S)\n",
        "  elif R > 0.7 and R <= 0.85:\n",
        "    Val_set.append(S)\n",
        "  else:\n",
        "    Test_set.append(S)\n"
      ],
      "execution_count": null,
      "outputs": []
    },
    {
      "cell_type": "markdown",
      "metadata": {
        "id": "sMyXnkf3cd_B"
      },
      "source": [
        "#Validation Set"
      ]
    },
    {
      "cell_type": "code",
      "metadata": {
        "colab": {
          "base_uri": "https://localhost:8080/"
        },
        "id": "4shqCkrhcgHi",
        "outputId": "cbdee33e-56c6-45c2-e9c8-ebe9c819e496"
      },
      "source": [
        "from scipy.spatial import distance\n",
        "import operator\n",
        "k = 15\n",
        "\n",
        "correct = 0\n",
        "error = 0\n",
        "for V in Val_set:\n",
        "  major_class = {}\n",
        "  L = {}\n",
        "  for T in Train_set:\n",
        "    ed = distance.euclidean(V[0:(len(V)-1)], T[0:(len(T)-1)])\n",
        "    L[ed] = T[-1]\n",
        "  sorted_L = sorted(L.keys())\n",
        "  #print(type(sorted_L))\n",
        "\n",
        "  count = 1\n",
        "  total_val = 0\n",
        "  for x in sorted_L:\n",
        "    total_val = total_val + L[x]\n",
        "    count = count + 1\n",
        "    if(count > k):\n",
        "      break\n",
        "  val = total_val/k\n",
        "  \n",
        "  error = error + (V[-1] - val)**2\n",
        "  \n",
        "\n",
        "\n",
        "Mean_Squared_Error = (error/len(Val_set))\n",
        "print(Mean_Squared_Error)\n"
      ],
      "execution_count": null,
      "outputs": [
        {
          "output_type": "stream",
          "text": [
            "2343.7939803094237\n"
          ],
          "name": "stdout"
        }
      ]
    },
    {
      "cell_type": "markdown",
      "metadata": {
        "id": "MNuWd3hgclBn"
      },
      "source": [
        "#Test Set"
      ]
    },
    {
      "cell_type": "code",
      "metadata": {
        "colab": {
          "base_uri": "https://localhost:8080/"
        },
        "id": "ckitT-e9cmzm",
        "outputId": "79b99c48-7cde-4a82-b474-11edf8504e57"
      },
      "source": [
        "from scipy.spatial import distance\n",
        "import operator\n",
        "k = 1\n",
        "\n",
        "correct = 0\n",
        "error = 0\n",
        "for V in Test_set:\n",
        "  major_class = {}\n",
        "  L = {}\n",
        "  for T in Train_set:\n",
        "    ed = distance.euclidean(V[0:(len(V)-1)], T[0:(len(T)-1)])\n",
        "    L[ed] = T[-1]\n",
        "  sorted_L = sorted(L.keys())\n",
        "  #print(type(sorted_L))\n",
        "\n",
        "  count = 1\n",
        "  total_val = 0\n",
        "  for x in sorted_L:\n",
        "    total_val = total_val + L[x]\n",
        "    count = count + 1\n",
        "    if(count > k):\n",
        "      break\n",
        "  value = total_val/k\n",
        "  \n",
        "  error = error + (V[-1] - value)**2\n",
        "  \n",
        "\n",
        "#print(error)\n",
        "Mean_Squared_Error = (error/len(Test_set))\n",
        "print(Mean_Squared_Error)\n"
      ],
      "execution_count": null,
      "outputs": [
        {
          "output_type": "stream",
          "text": [
            "1460.344827586207\n"
          ],
          "name": "stdout"
        }
      ]
    }
  ]
}