{
  "nbformat": 4,
  "nbformat_minor": 0,
  "metadata": {
    "colab": {
      "name": "KNN_classification_288.ipynb",
      "provenance": [],
      "collapsed_sections": [
        "TW8Y436z88kN"
      ],
      "authorship_tag": "ABX9TyNjMFsJjYM527gfZM4DSCq6",
      "include_colab_link": true
    },
    "kernelspec": {
      "name": "python3",
      "display_name": "Python 3"
    }
  },
  "cells": [
    {
      "cell_type": "markdown",
      "metadata": {
        "id": "view-in-github",
        "colab_type": "text"
      },
      "source": [
        "<a href=\"https://colab.research.google.com/github/pias97/Machine_Learning-KNN/blob/main/KNN_classification_288.ipynb\" target=\"_parent\"><img src=\"https://colab.research.google.com/assets/colab-badge.svg\" alt=\"Open In Colab\"/></a>"
      ]
    },
    {
      "cell_type": "markdown",
      "metadata": {
        "id": "F1pbu4PKE4h_"
      },
      "source": [
        "#Data Import"
      ]
    },
    {
      "cell_type": "code",
      "metadata": {
        "id": "m5XWBEi-51Ws",
        "colab": {
          "base_uri": "https://localhost:8080/"
        },
        "outputId": "ce0fcaaa-3948-4b80-bb74-5143ef10d298"
      },
      "source": [
        "from google.colab import drive\n",
        "drive.mount('/content/gdrive')"
      ],
      "execution_count": null,
      "outputs": [
        {
          "output_type": "stream",
          "text": [
            "Mounted at /content/gdrive\n"
          ],
          "name": "stdout"
        }
      ]
    },
    {
      "cell_type": "code",
      "metadata": {
        "id": "qnerqbXE7iua"
      },
      "source": [
        "from numpy import genfromtxt\n",
        "path = '/content/gdrive/MyDrive/Personal folder/STUDY/UIU/UIU/sem 12/AI lab/assignments/knn/Dataset/iris.csv'\n",
        "classification = genfromtxt(path, delimiter = ',')\n",
        "#print(classification)  "
      ],
      "execution_count": null,
      "outputs": []
    },
    {
      "cell_type": "markdown",
      "metadata": {
        "id": "TW8Y436z88kN"
      },
      "source": [
        "#Shuffling the converted list \n"
      ]
    },
    {
      "cell_type": "code",
      "metadata": {
        "id": "-wWr3wCf8Iwk"
      },
      "source": [
        "import random\n",
        "list_classi = classification.tolist()\n",
        "random.shuffle(list_classi)\n",
        "#print(list_classi)"
      ],
      "execution_count": null,
      "outputs": []
    },
    {
      "cell_type": "markdown",
      "metadata": {
        "id": "hxFrnGtS-k8L"
      },
      "source": [
        "#Dataset Preparation"
      ]
    },
    {
      "cell_type": "code",
      "metadata": {
        "id": "thvaf2_1-pNf"
      },
      "source": [
        "from random import random\n",
        "Train_set=[]\n",
        "Val_set=[]\n",
        "Test_set=[]\n",
        "\n",
        "for S in list_classi:\n",
        "  R = random()\n",
        "  if R >= 0 and R <= 0.7:\n",
        "    Train_set.append(S)\n",
        "  elif R > 0.7 and R <= 0.85:\n",
        "    Val_set.append(S)\n",
        "  else:\n",
        "    Test_set.append(S)\n"
      ],
      "execution_count": null,
      "outputs": []
    },
    {
      "cell_type": "markdown",
      "metadata": {
        "id": "u5l6F4WjEqbS"
      },
      "source": [
        "#Validation Set"
      ]
    },
    {
      "cell_type": "code",
      "metadata": {
        "id": "cHAANOjGPYpk",
        "colab": {
          "base_uri": "https://localhost:8080/"
        },
        "outputId": "79b77d8b-49ea-4915-9258-502ba1c32766"
      },
      "source": [
        "from scipy.spatial import distance\n",
        "import operator\n",
        "k = 15\n",
        "\n",
        "correct = 0\n",
        "for V in Val_set:\n",
        "  majority_class = {}\n",
        "  L = {}\n",
        "  for T in Train_set:\n",
        "    ed = distance.euclidean(V[0:(len(V)-1)], T[0:(len(T)-1)])\n",
        "    L[ed] = T\n",
        "  sorted_L = sorted(L.keys())\n",
        "  #print(sorted_L)\n",
        "  #print(len(sorted_L))\n",
        "\n",
        "  count = 1\n",
        "  for x in sorted_L:\n",
        "    result = int(L[x][-1])\n",
        "    #print(L[x]) \n",
        "    if result in majority_class.keys(): \n",
        "      majority_class[int(L[x][-1])] = majority_class[int(L[x][-1])]+1\n",
        "    else:\n",
        "      majority_class[int(L[x][-1])] = 1\n",
        "    count = count + 1\n",
        "    if(count > k):\n",
        "      break\n",
        " \n",
        "  value = max(majority_class.items(), key=operator.itemgetter(1))[0]\n",
        " \n",
        "  if(int(V[-1]) == value):\n",
        "    correct = correct + 1\n",
        "accuracy = (correct/len(Val_set))*100\n",
        "print(accuracy)"
      ],
      "execution_count": null,
      "outputs": [
        {
          "output_type": "stream",
          "text": [
            "100.0\n"
          ],
          "name": "stdout"
        }
      ]
    },
    {
      "cell_type": "markdown",
      "metadata": {
        "id": "g2EseJ6iEx8j"
      },
      "source": [
        "#Test Set"
      ]
    },
    {
      "cell_type": "code",
      "metadata": {
        "colab": {
          "base_uri": "https://localhost:8080/"
        },
        "id": "cuStD8NjEnnz",
        "outputId": "2d7501ed-9521-4b40-f9b7-68de6a75fbf9"
      },
      "source": [
        "from scipy.spatial import distance\n",
        "import operator\n",
        "k = 15\n",
        "\n",
        "correct = 0\n",
        "for V in Test_set:\n",
        "  majority_class = {}\n",
        "  L = {}\n",
        "  for T in Train_set:\n",
        "    ed = distance.euclidean(V[0:(len(V)-1)], T[0:(len(T)-1)])\n",
        "    L[ed] = T\n",
        "  sorted_L = sorted(L.keys())\n",
        "  #print(len(sorted_L))\n",
        "  count = 1\n",
        "  for x in sorted_L:\n",
        "    result = int(L[x][-1])\n",
        "    #print(L[x]) \n",
        "    if result in majority_class.keys(): \n",
        "      majority_class[int(L[x][-1])] = majority_class[int(L[x][-1])]+1\n",
        "    else:\n",
        "      majority_class[int(L[x][-1])] = 1\n",
        "    count = count + 1\n",
        "    if(count > k):\n",
        "      break\n",
        " \n",
        "  value = max(majority_class.items(), key=operator.itemgetter(1))[0]\n",
        " \n",
        "  if(int(V[-1]) == value):\n",
        "    correct = correct + 1\n",
        "#print(correct)\n",
        "accuracy = (correct/len(Test_set))*100\n",
        "print(accuracy)"
      ],
      "execution_count": null,
      "outputs": [
        {
          "output_type": "stream",
          "text": [
            "91.17647058823529\n"
          ],
          "name": "stdout"
        }
      ]
    }
  ]
}